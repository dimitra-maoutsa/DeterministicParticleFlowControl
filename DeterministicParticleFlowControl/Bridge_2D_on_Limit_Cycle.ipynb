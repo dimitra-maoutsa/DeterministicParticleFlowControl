{
 "cells": [
  {
   "cell_type": "markdown",
   "metadata": {},
   "source": [
    "Here we consider a two dimensional system with a limit cycle, and we will create a stochastic bridge between two points on the limit cycle, i.e. we will impose a terminal constraint onto the dynamics.\n",
    "\n",
    "For sanity check we simulate a long trajectory of the uncontrolled system stored in F.\n",
    "We create an instance of DPFC with proper attributes (i.e. initial and terminal state and time, drift and diffusion of the uncontrolled process)."
   ]
  },
  {
   "cell_type": "code",
   "execution_count": 1,
   "metadata": {
    "colab": {
     "base_uri": "https://localhost:8080/"
    },
    "id": "NYTJFkN249wx",
    "outputId": "a7c051de-c636-44fd-8ce4-cdd0ccba0bdd"
   },
   "outputs": [
    {
     "ename": "ImportError",
     "evalue": "attempted relative import with no known parent package",
     "output_type": "error",
     "traceback": [
      "Traceback \u001b[1;36m(most recent call last)\u001b[0m:\n",
      "  File \u001b[0;32m\"<ipython-input-1-fb8279c62f4c>\"\u001b[0m, line \u001b[0;32m5\u001b[0m, in \u001b[0;35m<module>\u001b[0m\n    import DeterministicParticleFlowControl as dpfc\n",
      "\u001b[1;36m  File \u001b[1;32m\"C:\\Users\\maout\\Data_Assimilation_stuff\\codes\\repos\\DeterministicParticleFlowControl\\DeterministicParticleFlowControl\\DeterministicParticleFlowControl.py\"\u001b[1;36m, line \u001b[1;32m18\u001b[1;36m, in \u001b[1;35m<module>\u001b[1;36m\u001b[0m\n\u001b[1;33m    from .score_function_estimators import  score_function_multid_seperate\u001b[0m\n",
      "\u001b[1;31mImportError\u001b[0m\u001b[1;31m:\u001b[0m attempted relative import with no known parent package\n"
     ]
    }
   ],
   "source": [
    "from matplotlib import pyplot as plt\n",
    "import seaborn as sns\n",
    "import numpy as np\n",
    "#from DeterministicParticleFlowControl import DPFC\n",
    "import DeterministicParticleFlowControl as dpfc\n",
    "### ploting parameters\n",
    "sns.set(style=\"white\", rc={\"axes.facecolor\": (0, 0, 0, 0)})\n",
    "plt.rcParams[\"axes.edgecolor\"] = \"1.0\"\n",
    "plt.rcParams[\"axes.linewidth\"]  = 2  \n",
    "\n",
    "\n",
    "%matplotlib inline        \n",
    "        \n",
    "\n",
    "\n",
    "\n",
    "###Drift function \n",
    "def f(x,t=0):#LC\n",
    "    x0 = -x[1] + x[0]*(1-x[0]**2 -x[1]**2)\n",
    "    x1 = x[0] + x[1]*(1-x[0]**2 -x[1]**2)\n",
    "    return np.array([x0,x1])\n",
    "\n",
    "\n",
    "#simulation_precision\n",
    "dt = 0.001\n",
    "\n",
    "t_start = 0.\n",
    "T = 500.\n",
    "#x0 = np.array([1.81, -1.41])\n",
    "x_0 = np.array([-0., -1.0])\n",
    "\n",
    "timegridall = np.arange(0,T,dt)\n",
    "F = np.zeros((2,timegridall.size))\n",
    "#noise amplitude\n",
    "g = 0.1    \n",
    "for ti,t in enumerate(timegridall):\n",
    "    if ti==0:\n",
    "        F[:,0] = x_0\n",
    "    else:\n",
    "        F[:,ti] = F[:,ti-1]+ dt* f(F[:,ti-1])+(g)*np.random.normal(loc=0.0, scale=np.sqrt(dt), size=(2,))  \n",
    "\n",
    "steps = 4000 #steps between initial and terminal points\n",
    "# number of particles\n",
    "N = 200\n",
    "# number of sparce/inducing points for the sparse kernel logarithmic gradient\n",
    "# estimations\n",
    "M = 40\n",
    "# initial time\n",
    "t1 = timegridall[100]\n",
    "# terminal time\n",
    "t2 = timegridall[100+steps]\n",
    "# initial state\n",
    "y1 = F[:, 100]\n",
    "# terminal state\n",
    "y2 = F[:, 100+steps]\n",
    "\n",
    "\n",
    "    \n",
    "##create object bridg2d that contains the simulated flows\n",
    "bridg2d = dpfc.DPFC(t1,t2,y1,y2,f,g,N,M,dens_est='nonparametric', deterministic=True)\n",
    "\n",
    "\n",
    "plt.figure(figsize=(10, 10))\n",
    "plt.plot(F[0], F[1], '.')\n",
    "plt.plot(bridg2d.B[0].T, bridg2d.B[1].T, alpha=0.5, c='maroon')\n",
    "plt.plot(y1[0], y1[1], 'g.', markersize=16)\n",
    "plt.plot(y2[0], y2[1], '*', c='yellow', markersize=16)\n",
    "plt.title('Invariant density and time reversed flow', fontsize=20)\n",
    "plt.xlabel('x', fontsize=16)\n",
    "plt.ylabel('y', fontsize=16)\n",
    "ax = plt.gca()\n",
    "ax.annotate(\"target\", xy=y2, xycoords='data',\n",
    "            xytext=(y2[0]-0.5, y2[1]+0.3), textcoords='data', size=18,\n",
    "            arrowprops=dict(arrowstyle=\"->\",\n",
    "                            connectionstyle=\"arc3,rad=-.3\", color='k', lw=2.5),\n",
    "            )\n",
    "plt.show()\n",
    "    \n",
    "            "
   ]
  },
  {
   "cell_type": "code",
   "execution_count": null,
   "metadata": {
    "colab": {
     "base_uri": "https://localhost:8080/",
     "height": 537
    },
    "id": "d8OEGjGcaneh",
    "outputId": "ae4af3c6-f58a-42c1-bb34-bdf5ccb4848c"
   },
   "outputs": [],
   "source": [
    "plt.figure(figsize=(10, 5))\n",
    "plt.subplot(1, 2, 1)\n",
    "plt.plot(bridg2d.timegrid, bridg2d.B[0, :, :].T, 'maroon', alpha=0.5);\n",
    "plt.plot(bridg2d.timegrid[-1], y2[0], '*', c='yellow', markersize=10);\n",
    "plt.plot(bridg2d.timegrid[0], y1[0], '.g');\n",
    "plt.xlabel('time');\n",
    "plt.ylabel('x');\n",
    "#plt.ylim(-2,2)\n",
    "\n",
    "plt.subplot(1, 2, 2)\n",
    "plt.plot(bridg2d.timegrid, bridg2d.B[1].T, 'maroon', alpha=0.5);\n",
    "plt.plot(bridg2d.timegrid[-1], y2[1], '*', c='yellow', markersize=10);\n",
    "plt.plot(bridg2d.timegrid[0], y1[1], '.g');\n",
    "plt.xlabel('time');\n",
    "plt.ylabel('y');\n",
    "plt.suptitle('Zoomed in each dimension seperately');\n"
   ]
  },
  {
   "cell_type": "markdown",
   "metadata": {},
   "source": [
    "Set the controls for the heart of the star.\n",
    "Simulate an ensemble of controlled and an ensemble of uncontrolled trajectories."
   ]
  },
  {
   "cell_type": "code",
   "execution_count": null,
   "metadata": {},
   "outputs": [],
   "source": [
    "dim = 2\n",
    "reps = 30\n",
    "### storage for controlled trajectories\n",
    "Fcont = np.zeros((dim, bridg2d.timegrid.size, reps))\n",
    "### storagefor uncontrolled trajectories\n",
    "Fnon =  np.zeros((dim, bridg2d.timegrid.size, reps))\n",
    "### storage for controls\n",
    "used_u =  np.zeros((dim, bridg2d.timegrid.size, reps))\n",
    "for ti, tt in enumerate(bridg2d.timegrid[:]):\n",
    "\n",
    "\n",
    "    if ti == 0:\n",
    "        Fcont[:,ti] = y1.reshape(dim, -1)\n",
    "        Fnon[:,ti] = y1.reshape(dim, -1)\n",
    "\n",
    "    else:\n",
    "        \n",
    "        uu = bridg2d.calculate_u(np.atleast_2d(Fcont[:, ti-1]).T, ti)\n",
    "\n",
    "\n",
    "\n",
    "        used_u[:, ti] = uu\n",
    "\n",
    "        Fcont[:, ti] =  (Fcont[:, ti-1]+ dt* f(Fcont[:, ti-1])+dt*g**2 *uu+\\\n",
    "                        (g)*np.random.normal(loc=0.0, scale=np.sqrt(dt), size=(dim, reps)))\n",
    "        Fnon[:, ti] =  (Fnon[:, ti-1]+ dt* f(Fnon[:, ti-1])+\\\n",
    "                       (g)*np.random.normal(loc=0.0, scale=np.sqrt(dt), size=(dim, reps)))\n"
   ]
  },
  {
   "cell_type": "code",
   "execution_count": null,
   "metadata": {},
   "outputs": [],
   "source": [
    "plt.figure(figsize=(20, 10))\n",
    "plt.subplot(1, 2, 1)\n",
    "plt.plot(F[0], F[1], '.')\n",
    "plt.plot(bridg2d.B[0].T, bridg2d.B[1].T, alpha=0.5, c='maroon')\n",
    "ax = plt.gca()\n",
    "orange = next(ax._get_lines.prop_cycler)['color']\n",
    "plt.plot(Fcont[0], Fcont[1], c=orange, alpha=0.8)\n",
    "plt.plot(y1[0], y1[1], 'g.', markersize=16)\n",
    "plt.plot(y2[0], y2[1], '*', c='yellow', markersize=16)\n",
    "plt.title('Controlled trajectories', fontsize=20)\n",
    "plt.xlabel('x', fontsize=16)\n",
    "plt.ylabel('y', fontsize=16)\n",
    "\n",
    "plt.subplot(1, 2, 2)\n",
    "plt.plot(F[0], F[1], '.')\n",
    "plt.plot(bridg2d.B[0].T, bridg2d.B[1].T, alpha=0.5, c='maroon')\n",
    "plt.plot(Fnon[0], Fnon[1], c='silver', alpha=0.8)\n",
    "plt.plot(y1[0], y1[1], 'g.', markersize=16)\n",
    "plt.plot(y2[0], y2[1], '*', c='yellow', markersize=16)\n",
    "plt.title('Uncontrolled trajectories', fontsize=20)\n",
    "plt.xlabel('x', fontsize=16)\n",
    "plt.ylabel('y', fontsize=16)\n",
    "#plt.savefig('Controlled_and_uncontrolled_LC.png')\n",
    "plt.show()\n"
   ]
  }
 ],
 "metadata": {
  "colab": {
   "collapsed_sections": [],
   "name": "Copy of Copy of Bridge_with_correct_drift.ipynb",
   "provenance": []
  },
  "kernelspec": {
   "display_name": "Python 3 (Spyder)",
   "language": "python3",
   "name": "python3"
  },
  "language_info": {
   "codemirror_mode": {
    "name": "ipython",
    "version": 3
   },
   "file_extension": ".py",
   "mimetype": "text/x-python",
   "name": "python",
   "nbconvert_exporter": "python",
   "pygments_lexer": "ipython3",
   "version": "3.7.6"
  }
 },
 "nbformat": 4,
 "nbformat_minor": 1
}
